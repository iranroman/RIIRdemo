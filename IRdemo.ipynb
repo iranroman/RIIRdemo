{
 "cells": [
  {
   "cell_type": "markdown",
   "metadata": {
    "id": "D6kLvS0y7vM9"
   },
   "source": [
    "# Make Any Sound Feel Like It's in a Room!\n",
    "## Science Demo - Queen Mary University of London\n",
    "\n",
    "**Learning Outcomes:**\n",
    "1. Understand what an impulse response is\n",
    "2. Learn how convolution creates realistic room effects\n",
    "3. Hear how sounds transform using different spaces\n",
    "4. Connect physics of sound to digital signal processing\n",
    "\n",
    "*No coding required - just run each cell in order!*"
   ]
  },
  {
   "cell_type": "code",
   "execution_count": null,
   "metadata": {
    "id": "dJNQc9uH8TqY"
   },
   "outputs": [],
   "source": [
    "#@title Setup Environment\n",
    "!pip install soundfile > /dev/null\n",
    "import numpy as np\n",
    "import matplotlib.pyplot as plt\n",
    "from scipy import signal\n",
    "import soundfile as sf\n",
    "from IPython.display import Audio, display\n",
    "import urllib.request\n",
    "%matplotlib inline\n",
    "\n",
    "print('✓ Libraries installed!')"
   ]
  },
  {
   "cell_type": "code",
   "execution_count": null,
   "metadata": {
    "id": "l3M4GkM-9yWn"
   },
   "outputs": [],
   "source": [
    "#@title Download Audio Files\n",
    "guitar_url = 'https://ccrma.stanford.edu/~jos/wav/gtr-nylon22.wav'\n",
    "ir_url = 'https://ccrma.stanford.edu/~iran/review/reverberant_IR.wav'\n",
    "\n",
    "urllib.request.urlretrieve(guitar_url, 'guitar.wav')\n",
    "urllib.request.urlretrieve(ir_url, 'impulse_response.wav')\n",
    "\n",
    "print('✓ Files downloaded!\\nWe have:')\n",
    "!ls -lh *.wav"
   ]
  },
  {
   "cell_type": "code",
   "execution_count": null,
   "metadata": {
    "id": "s4b6Jj9H-dFw"
   },
   "outputs": [],
   "source": [
    "#@title Visualize the Sounds\n",
    "guitar, fs_g = sf.read('guitar.wav')\n",
    "ir, fs_ir = sf.read('impulse_response.wav')\n",
    "\n",
    "plt.figure(figsize=(15,5))\n",
    "\n",
    "plt.subplot(1,2,1)\n",
    "plt.plot(guitar)\n",
    "plt.title('Original Guitar Sound')\n",
    "plt.xlabel('Samples')\n",
    "plt.ylabel('Amplitude')\n",
    "\n",
    "plt.subplot(1,2,2)\n",
    "plt.plot(ir)\n",
    "plt.title('Room Impulse Response')\n",
    "plt.xlabel('Samples')\n",
    "plt.tight_layout()\n",
    "plt.show()\n",
    "\n",
    "print(\"\\nListen to the original sounds:\")\n",
    "display(Audio(guitar, rate=fs_g))\n",
    "display(Audio(ir, rate=fs_ir))"
   ]
  },
  {
   "cell_type": "code",
   "execution_count": null,
   "metadata": {
    "id": "TQfQYQoH_0K_"
   },
   "outputs": [],
   "source": [
    "#@title Create Room Effect (Convolution)\n",
    "# Convert to mono if needed\n",
    "if len(guitar.shape) > 1:\n",
    "    guitar = guitar.mean(axis=1)\n",
    "if len(ir.shape) > 1:\n",
    "    ir = ir.mean(axis=1)\n",
    "\n",
    "# Normalize impulse response\n",
    "ir = ir / np.max(np.abs(ir))\n",
    "\n",
    "# Convolution magic!\n",
    "room_sound = signal.fftconvolve(guitar, ir, mode='full')\n",
    "room_sound = room_sound / np.max(np.abs(room_sound))  # Prevent clipping\n",
    "\n",
    "print(\"✓ Convolution complete! Here's the comparison:\")\n",
    "\n",
    "plt.figure(figsize=(15,5))\n",
    "plt.subplot(1,2,1)\n",
    "plt.plot(guitar)\n",
    "plt.title('Original Sound')\n",
    "plt.subplot(1,2,2)\n",
    "plt.plot(room_sound)\n",
    "plt.title('After Room Effect')\n",
    "plt.tight_layout()\n",
    "plt.show()\n",
    "\n",
    "print(\"\\nHear the difference:\")\n",
    "display(Audio(guitar, rate=fs_g))\n",
    "display(Audio(room_sound, rate=fs_g))"
   ]
  },
  {
   "cell_type": "markdown",
   "metadata": {
    "id": "HqXz8X0eBmGm"
   },
   "source": [
    "## What Happened?\n",
    "\n",
    "1. **Impulse Response Capture**: The balloon pop recorded the room's acoustic fingerprint\n",
    "2. **Mathematical Magic**: Convolution applied this fingerprint to the guitar sound\n",
    "3. **Physics Connection**: Every space has unique sound characteristics that we can digitally recreate!\n",
    "\n",
    "Try different sounds at home using your phone's voice memos and Audacity!"
   ]
  }
 ],
 "metadata": {
  "colab": {
   "provenance": []
  },
  "kernelspec": {
   "display_name": "Python 3",
   "name": "python3"
  },
  "language_info": {
   "name": "python"
  }
 },
 "nbformat": 4,
 "nbformat_minor": 0
}
